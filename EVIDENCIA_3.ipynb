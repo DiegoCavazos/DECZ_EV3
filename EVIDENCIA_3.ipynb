{
  "nbformat": 4,
  "nbformat_minor": 0,
  "metadata": {
    "colab": {
      "provenance": [],
      "authorship_tag": "ABX9TyOcJBNNsCJvywUXxxIx8jdl",
      "include_colab_link": true
    },
    "kernelspec": {
      "name": "python3",
      "display_name": "Python 3"
    },
    "language_info": {
      "name": "python"
    }
  },
  "cells": [
    {
      "cell_type": "markdown",
      "metadata": {
        "id": "view-in-github",
        "colab_type": "text"
      },
      "source": [
        "<a href=\"https://colab.research.google.com/github/DiegoCavazos/DECZ_EV3/blob/main/EVIDENCIA_3.ipynb\" target=\"_parent\"><img src=\"https://colab.research.google.com/assets/colab-badge.svg\" alt=\"Open In Colab\"/></a>"
      ]
    },
    {
      "cell_type": "code",
      "execution_count": 2,
      "metadata": {
        "id": "M9nmZG7tvY3y"
      },
      "outputs": [],
      "source": []
    },
    {
      "cell_type": "code",
      "execution_count": 4,
      "metadata": {
        "colab": {
          "base_uri": "https://localhost:8080/"
        },
        "outputId": "b8f73c02-051b-4927-dcb6-4ed0e27035ad",
        "id": "kM8fwbQt890A"
      },
      "outputs": [
        {
          "output_type": "stream",
          "name": "stdout",
          "text": [
            "Objeto recuperado: {'Nombre': 'Diego Esau Cavazos Zambrano', 'Edad': 18, 'Intereses': ['Programación', 'Musica', 'videojuegos']}\n"
          ]
        }
      ],
      "source": [
        "import pickle\n",
        "\n",
        "# Objeto a serializar\n",
        "Estudiante = {\"Nombre\": \"Diego Esau Cavazos Zambrano\", \"Edad\": 18, \"Intereses\": [\"Programación\", \"Musica\", \"videojuegos\"]}\n",
        "\n",
        "# Serializar el objeto y almacenarlo en un archivo binario usando pickle\n",
        "with open('archivo.pickle', 'wb') as archivo:\n",
        "    pickle.dump(Estudiante, archivo)\n",
        "\n",
        "# Deserializar el objeto desde el archivo pickle\n",
        "with open('archivo.pickle', 'rb') as archivo:\n",
        "    objeto_recuperado = pickle.load(archivo)\n",
        "\n",
        "# Mostrar el objeto recuperado\n",
        "print(\"Objeto recuperado:\", objeto_recuperado)\n"
      ]
    }
  ]
}